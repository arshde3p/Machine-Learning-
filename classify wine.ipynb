{
 "cells": [
  {
   "cell_type": "code",
   "execution_count": 60,
   "metadata": {},
   "outputs": [
    {
     "name": "stdout",
     "output_type": "stream",
     "text": [
      "[[ 7.4    0.7    0.    ...  3.51   0.56   9.4  ]\n",
      " [ 7.8    0.88   0.    ...  3.2    0.68   9.8  ]\n",
      " [ 7.8    0.76   0.04  ...  3.26   0.65   9.8  ]\n",
      " ...\n",
      " [ 6.3    0.51   0.13  ...  3.42   0.75  11.   ]\n",
      " [ 5.9    0.645  0.12  ...  3.57   0.71  10.2  ]\n",
      " [ 6.     0.31   0.47  ...  3.39   0.66  11.   ]]\n",
      "0.66875\n",
      "['Good']\n"
     ]
    }
   ],
   "source": [
    "import numpy as np\n",
    "# from sklearn.model_selecton import train_test_split\n",
    "from sklearn.model_selection import train_test_split\n",
    "\n",
    "from sklearn import preprocessing, neighbors\n",
    "import pandas as pd\n",
    "\n",
    "df = pd.read_csv('dataset/winequality-red.csv')\n",
    "# df.drop(['quality'],1,inplace=True)\n",
    "classes=[]\n",
    "\n",
    "for i in df['quality']:\n",
    "    if i>=6:\n",
    "        classes.append('Good')\n",
    "    else:\n",
    "        classes.append('Average')\n",
    "df['classes'] = classes\n",
    "\n",
    "# print(df['class'])\n",
    "# X = np.array(df.drop(['quality'],1))\n",
    "X = np.array(df.drop(['classes','quality'],1))\n",
    "y = np.array(df['classes'])\n",
    "print(X)\n",
    "df.head()\n",
    "X_train,X_test,y_train,y_test = train_test_split(X,y,test_size = 0.2)\n",
    "\n",
    "clf = neighbors.KNeighborsClassifier()\n",
    "clf.fit(X_train,y_train)\n",
    "accuracy = clf.score(X_test,y_test)\n",
    "print(accuracy)\n",
    "\n",
    "example_measures = np.array([8.3,0.676,0.49,1.9,0.083,21.0,59.0,0.9989,3.37,0.71,11.5])\n",
    "example_measures = example_measures.reshape(1, -1)\n",
    "# print(example_measures)\n",
    "prediction = clf.predict(example_measures)\n",
    "print(prediction)"
   ]
  },
  {
   "cell_type": "code",
   "execution_count": null,
   "metadata": {},
   "outputs": [],
   "source": []
  }
 ],
 "metadata": {
  "kernelspec": {
   "display_name": "Python 3",
   "language": "python",
   "name": "python3"
  },
  "language_info": {
   "codemirror_mode": {
    "name": "ipython",
    "version": 3
   },
   "file_extension": ".py",
   "mimetype": "text/x-python",
   "name": "python",
   "nbconvert_exporter": "python",
   "pygments_lexer": "ipython3",
   "version": "3.7.0"
  }
 },
 "nbformat": 4,
 "nbformat_minor": 2
}
