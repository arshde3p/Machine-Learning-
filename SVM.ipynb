{
 "cells": [
  {
   "cell_type": "code",
   "execution_count": 6,
   "metadata": {},
   "outputs": [
    {
     "name": "stdout",
     "output_type": "stream",
     "text": [
      "0.9714285714285714\n",
      "[2]\n"
     ]
    },
    {
     "name": "stderr",
     "output_type": "stream",
     "text": [
      "c:\\program files\\python37\\lib\\site-packages\\sklearn\\svm\\base.py:193: FutureWarning: The default value of gamma will change from 'auto' to 'scale' in version 0.22 to account better for unscaled features. Set gamma explicitly to 'auto' or 'scale' to avoid this warning.\n",
      "  \"avoid this warning.\", FutureWarning)\n"
     ]
    }
   ],
   "source": [
    "#better than NN in case of letter recognition\n",
    "#binary classifier i.e separates the data only into two groups\n",
    "#finds the best decision boundary(hyperplane) - max distance from the points of the dataset\n",
    "import numpy as np\n",
    "from sklearn.model_selection import train_test_split\n",
    "from sklearn import preprocessing , neighbors, svm\n",
    "import pandas as pd\n",
    "import matplotlib.pyplot as plt\n",
    "from matplotlib import style\n",
    "style.use('fivethirtyeight')\n",
    "\n",
    "df = pd.read_csv('dataset/breast-cancer-wisconsin.data')\n",
    "df.replace('?',-99999,inplace=True)\n",
    "df.drop(['id'],1,inplace = True)\n",
    "\n",
    "# X = features ,y = labels\n",
    "X = np.array(df.drop(['class'],1))\n",
    "y = np.array(df['class'])\n",
    "X_train, X_test , y_train, y_test = train_test_split(X,y,test_size=0.2)\n",
    "\n",
    "clf = svm.SVC()#SVC = support vector classifier\n",
    "clf.fit(X_train, y_train)\n",
    "accuracy = clf.score(X_test, y_test)\n",
    "# plt.scatter(X_train, y_train)\n",
    "print(accuracy)\n",
    "example_measures = np.array([4,2,1,1,1,2,3,2,1])\n",
    "example_measures = example_measures.reshape(1, -1)\n",
    "\n",
    "prediction = clf.predict(example_measures)\n",
    "print(prediction)\n",
    "\n"
   ]
  },
  {
   "cell_type": "code",
   "execution_count": null,
   "metadata": {},
   "outputs": [],
   "source": [
    "import numpy as np \n",
    "from sklearn import datasets\n",
    "from skimage.feature import hog\n",
    "from collections import Counter\n",
    "from sklearn import svm,preprocessing\n",
    "from sklearn.svm import LinearSVC\n",
    "import pickle\n",
    "import pandas as pd\n",
    "\n",
    "df = pd.read_csv('optical character recognition OCR/dataset/mnist_train.csv')\n",
    "features = np.array(df.drop(['label'],1))\n",
    "labels = np.array(df['label'])\n",
    "\n",
    "# now for feature extraction we are using hog transformation\n",
    "list_hog_fd = []\n",
    "for feature in features:\n",
    "    fd = hog(feature.reshape((28,28)), orientations=9 , pixels_per_cell=(14,14),cells_per_block=(1, 1), visualize=False)\n",
    "    list_hog_fd.append(fd)\n",
    "hog_features = np.array(list_hog_fd,'float64')\n",
    "print(\"count of features in dataset \", Counter(labels))\n",
    "\n",
    "clf = LinearSVC()\n",
    "clf.fit(hog_features,labels)\n",
    "\n",
    "with open('OCR.pickle', 'wb') as f:\n",
    "    pickle.dump(clf,f)\n",
    "# df1 = pd.read_csv('dataset/mnist_test.csv')\n",
    "# X_test = np.array(df1.drop(['label'],1))\n",
    "# y_test = np.array(df1['label'])\n",
    "# accuracy = clf.score(X_test,y_test)\n",
    "# print(accuracy)"
   ]
  },
  {
   "cell_type": "code",
   "execution_count": null,
   "metadata": {},
   "outputs": [],
   "source": []
  }
 ],
 "metadata": {
  "kernelspec": {
   "display_name": "Python 3",
   "language": "python",
   "name": "python3"
  },
  "language_info": {
   "codemirror_mode": {
    "name": "ipython",
    "version": 3
   },
   "file_extension": ".py",
   "mimetype": "text/x-python",
   "name": "python",
   "nbconvert_exporter": "python",
   "pygments_lexer": "ipython3",
   "version": "3.7.0"
  }
 },
 "nbformat": 4,
 "nbformat_minor": 2
}
